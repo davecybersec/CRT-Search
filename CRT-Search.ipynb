{
 "cells": [
  {
   "cell_type": "code",
   "execution_count": null,
   "id": "8f530148-8742-4974-9874-2e8da8b7c79c",
   "metadata": {},
   "outputs": [],
   "source": [
    "#!/usr/bin/python3\n",
    "\n",
    "import sys\n",
    "import requests\n",
    "from bs4 import BeautifulSoup\n",
    "\n",
    "domain = input(\"Enter a domain name to search certificate transparency logs: \").strip()\n",
    "url = \"https://crt.sh?q=\" + domain\n",
    "\n",
    "print(\"Getting domain details from crt.sh\")\n",
    "resp = requests.get(url)\n",
    "\n",
    "print(\"Extracting subdomains from \" + domain)\n",
    "soup = BeautifulSoup(resp.content, \"html.parser\")\n",
    "urls = []\n",
    "\n",
    "for i in soup.select(\"table tr td:nth-of-type(5)\"):\n",
    "    if not \"*\" in i.text:\n",
    "        urls.append(i.text)\n",
    "\n",
    "print(\"Unique subdomains from \" + domain)\n",
    "for i in sorted(set(urls)):\n",
    "    print(i)"
   ]
  }
 ],
 "metadata": {
  "kernelspec": {
   "display_name": "Python 3 (ipykernel)",
   "language": "python",
   "name": "python3"
  },
  "language_info": {
   "codemirror_mode": {
    "name": "ipython",
    "version": 3
   },
   "file_extension": ".py",
   "mimetype": "text/x-python",
   "name": "python",
   "nbconvert_exporter": "python",
   "pygments_lexer": "ipython3",
   "version": "3.10.12"
  }
 },
 "nbformat": 4,
 "nbformat_minor": 5
}
